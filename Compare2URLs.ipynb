{
 "cells": [
  {
   "cell_type": "code",
   "execution_count": 45,
   "metadata": {},
   "outputs": [
    {
     "name": "stdout",
     "output_type": "stream",
     "text": [
      "\u001b[1m\t<img src=\"https://web.meinprospekt.de/portal/Besuch-bestaetigen/NONE/1/537448?referrer=\"></footer><\u001b[0m\n",
      "\t<img src=\"https://web.meinprospekt.de/portal/Besuch-bestaetigen/NONE/1/632315?referrer=\"></footer><\n",
      "\n"
     ]
    }
   ],
   "source": [
    "import requests\n",
    "\n",
    "#  Select this cell, choose the right domain + path for comparison and hit CTRL+Enter to see the differences in the two html files.\n",
    "\n",
    "domain1 = 'https://web.meinprospekt.de'\n",
    "domain2 = 'https://www.meinprospekt.de'\n",
    "path = '/berlin/filialen/lidl/151482'\n",
    "\n",
    "resp = requests.get(domain1 + path)\n",
    "resp2 = requests.get(domain2 + path)\n",
    "\n",
    "if resp.ok:\n",
    "    with open('file1.html', 'w', encoding=\"utf-8\") as outfile:\n",
    "        outfile.write(resp.text)\n",
    "    with open('file2.html', 'w', encoding=\"utf-8\") as outfile:\n",
    "        outfile.write(resp2.text)\n",
    "else:\n",
    "    print (\"Boo! {}\".format(resp.status_code))\n",
    "    print (resp.text)\n",
    "    \n",
    "with open('file1.html',encoding=\"utf-8\") as file1, open('file2.html',encoding=\"utf-8\") as file2:\n",
    "    for file1Line, file2Line in zip(file1, file2):\n",
    "        if file1Line != file2Line:\n",
    "            print('\\033[1m' + file1Line.strip('\\n')[0:100] + '\\033[0m')\n",
    "            print(file2Line.strip('\\n')[0:100])\n",
    "            print('')"
   ]
  }
 ],
 "metadata": {
  "kernelspec": {
   "display_name": "Python 3",
   "language": "python",
   "name": "python3"
  },
  "language_info": {
   "codemirror_mode": {
    "name": "ipython",
    "version": 3
   },
   "file_extension": ".py",
   "mimetype": "text/x-python",
   "name": "python",
   "nbconvert_exporter": "python",
   "pygments_lexer": "ipython3",
   "version": "3.7.4"
  }
 },
 "nbformat": 4,
 "nbformat_minor": 2
}

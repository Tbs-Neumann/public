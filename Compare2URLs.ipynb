{
 "cells": [
  {
   "cell_type": "code",
   "execution_count": 43,
   "metadata": {},
   "outputs": [
    {
     "name": "stdout",
     "output_type": "stream",
     "text": [
      "\u001b[1m\t<img src=\"https://web.meinprospekt.de/portal/Besuch-bestaetigen/NONE/1/973631?referrer=\"></footer><\u001b[0m\n",
      "\t<img src=\"https://web.meinprospekt.de/portal/Besuch-bestaetigen/NONE/1/560939?referrer=\"></footer><\n",
      "\n"
     ]
    }
   ],
   "source": [
    "import requests\n",
    "\n",
    "path = '/filialen/norma-de'\n",
    "\n",
    "resp = requests.get('https://web.meinprospekt.de' + path)\n",
    "resp2 = requests.get('https://www.meinprospekt.de' + path)\n",
    "\n",
    "if resp.ok:\n",
    "    with open('file1.html', 'w', encoding=\"utf-8\") as outfile:\n",
    "        outfile.write(resp.text)\n",
    "    with open('file2.html', 'w', encoding=\"utf-8\") as outfile:\n",
    "        outfile.write(resp2.text)\n",
    "else:\n",
    "    print (\"Boo! {}\".format(resp.status_code))\n",
    "    print (resp.text)\n",
    "    \n",
    "with open('file1.html',encoding=\"utf-8\") as file1, open('file2.html',encoding=\"utf-8\") as file2:\n",
    "    for file1Line, file2Line in zip(file1, file2):\n",
    "        if file1Line != file2Line:\n",
    "            print(color.BOLD + file1Line.strip('\\n')[0:100] + color.END)\n",
    "            print(file2Line.strip('\\n')[0:100])\n",
    "            print('')"
   ]
  },
  {
   "cell_type": "code",
   "execution_count": 2,
   "metadata": {},
   "outputs": [],
   "source": [
    "class color:\n",
    "   PURPLE = '\\033[95m'\n",
    "   CYAN = '\\033[96m'\n",
    "   DARKCYAN = '\\033[36m'\n",
    "   BLUE = '\\033[94m'\n",
    "   GREEN = '\\033[92m'\n",
    "   YELLOW = '\\033[93m'\n",
    "   RED = '\\033[91m'\n",
    "   BOLD = '\\033[1m'\n",
    "   UNDERLINE = '\\033[4m'\n",
    "   END = '\\033[0m'"
   ]
  }
 ],
 "metadata": {
  "kernelspec": {
   "display_name": "Python 3",
   "language": "python",
   "name": "python3"
  },
  "language_info": {
   "codemirror_mode": {
    "name": "ipython",
    "version": 3
   },
   "file_extension": ".py",
   "mimetype": "text/x-python",
   "name": "python",
   "nbconvert_exporter": "python",
   "pygments_lexer": "ipython3",
   "version": "3.7.4"
  }
 },
 "nbformat": 4,
 "nbformat_minor": 2
}
